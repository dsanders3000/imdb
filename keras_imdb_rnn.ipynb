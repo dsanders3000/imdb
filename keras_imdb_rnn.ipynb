{
  "nbformat": 4,
  "nbformat_minor": 0,
  "metadata": {
    "colab": {
      "name": "keras-imdb-rnn.ipynb",
      "version": "0.3.2",
      "provenance": []
    },
    "language_info": {
      "codemirror_mode": {
        "name": "ipython",
        "version": 3
      },
      "file_extension": ".py",
      "mimetype": "text/x-python",
      "name": "python",
      "nbconvert_exporter": "python",
      "pygments_lexer": "ipython3",
      "version": "3.5.2"
    },
    "kernelspec": {
      "display_name": "Python 3",
      "language": "python",
      "name": "python3"
    }
  },
  "cells": [
    {
      "cell_type": "markdown",
      "metadata": {
        "id": "jx3Z0bYxH8S7",
        "colab_type": "text"
      },
      "source": [
        "# IMDB movie review sentiment classification with RNNs\n",
        "\n",
        "In this notebook, we'll train a recurrent neural network (RNN) for sentiment classification using Keras (with either Theano or Tensorflow as the compute backend).  Keras version $\\ge$ 2 is required. This notebook is largely based on the [Understanding recurrent neural networks](https://github.com/fchollet/deep-learning-with-python-notebooks/blob/master/6.2-understanding-recurrent-neural-networks.ipynb) by François Chollet.\n",
        "\n",
        "First, the needed imports. Keras tells us which backend (Theano, Tensorflow, CNTK) it will be using."
      ]
    },
    {
      "cell_type": "code",
      "metadata": {
        "id": "LqIZSchZH8S9",
        "colab_type": "code",
        "colab": {}
      },
      "source": [
        "%matplotlib inline\n",
        "\n",
        "from keras.preprocessing import sequence\n",
        "from keras.models import Sequential\n",
        "from keras.layers import Dense, Embedding, Dropout\n",
        "from keras.layers import LSTM, CuDNNLSTM\n",
        "from keras.datasets import imdb\n",
        "\n",
        "from distutils.version import LooseVersion as LV\n",
        "from keras import __version__\n",
        "from keras import backend as K\n",
        "\n",
        "from IPython.display import SVG\n",
        "from keras.utils.vis_utils import model_to_dot\n",
        "\n",
        "import numpy as np\n",
        "import matplotlib.pyplot as plt\n",
        "import seaborn as sns\n",
        "sns.set()\n",
        "\n",
        "print('Using Keras version:', __version__, 'backend:', K.backend())\n",
        "assert(LV(__version__) >= LV(\"2.0.0\"))"
      ],
      "execution_count": 0,
      "outputs": []
    },
    {
      "cell_type": "markdown",
      "metadata": {
        "id": "rN9fJjuZH8TA",
        "colab_type": "text"
      },
      "source": [
        "## IMDB data set\n",
        "\n",
        "Next we'll load the IMDB data set. First time we may have to download the data, which can take a while.\n",
        "\n",
        "The dataset contains 50000 movies reviews from the Internet Movie Database, split into 25000 reviews for training and 25000 reviews for testing. Half of the reviews are positive (1) and half are negative (0).\n",
        "\n",
        "The dataset has already been preprocessed, and each word has been replaced by an integer index.\n",
        "The reviews are thus represented as varying-length sequences of integers.\n",
        "(Word indices begin at \"3\", as \"1\" is used to mark the start of a review and \"2\" represents all out-of-vocabulary words. \"0\" will be used later to pad shorter reviews to a fixed size.)"
      ]
    },
    {
      "cell_type": "code",
      "metadata": {
        "id": "vP8sABmaH8TB",
        "colab_type": "code",
        "colab": {}
      },
      "source": [
        "# number of most-frequent words to use\n",
        "nb_words = 10000\n",
        "# cut texts after this number of words\n",
        "maxlen = 80\n",
        "\n",
        "print('Loading data...')\n",
        "(x_train, y_train), (x_test, y_test) = imdb.load_data(num_words=nb_words)\n",
        "print('x_train:', x_train.shape)\n",
        "print('x_test:', x_test.shape)\n",
        "print()\n",
        "\n",
        "print('Pad sequences (samples x time)')\n",
        "x_train = sequence.pad_sequences(x_train, maxlen=maxlen)\n",
        "x_test = sequence.pad_sequences(x_test, maxlen=maxlen)\n",
        "print('x_train shape:', x_train.shape)\n",
        "print('x_test shape:', x_test.shape)"
      ],
      "execution_count": 0,
      "outputs": []
    },
    {
      "cell_type": "markdown",
      "metadata": {
        "id": "2kP5FK7iH8TD",
        "colab_type": "text"
      },
      "source": [
        "The first movie review in the training set:"
      ]
    },
    {
      "cell_type": "code",
      "metadata": {
        "id": "TN8nnTzzH8TE",
        "colab_type": "code",
        "colab": {}
      },
      "source": [
        "print(\"First review in the training set:\\n\", x_train[0], \"length:\", len(x_train[0]), \"class:\", y_train[0])"
      ],
      "execution_count": 0,
      "outputs": []
    },
    {
      "cell_type": "markdown",
      "metadata": {
        "id": "B8hc4CrdH8TG",
        "colab_type": "text"
      },
      "source": [
        "## Initialization\n",
        "\n",
        "Let's create an RNN model that has one (or optionally two) LSTM layers. Dropout  The first layer in the network is an *Embedding* layer that converts integer indices to dense vectors of length `embedding_dims`. The output layer contains a single neuron and *sigmoid* non-linearity to match the binary groundtruth (`y_train`). \n",
        "\n",
        "Finally, we `compile()` the model, using *binary crossentropy* as the loss function and [*RMSprop*](https://keras.io/optimizers/#rmsprop) as the optimizer."
      ]
    },
    {
      "cell_type": "code",
      "metadata": {
        "id": "E1HR7UDHH8TG",
        "colab_type": "code",
        "colab": {}
      },
      "source": [
        "# model parameters:\n",
        "embedding_dims = 50\n",
        "lstm_units = 32\n",
        "\n",
        "print('Build model...')\n",
        "model = Sequential()\n",
        "\n",
        "model.add(Embedding(nb_words,\n",
        "                    embedding_dims,\n",
        "                    input_length=maxlen))\n",
        "model.add(Dropout(0.2))\n",
        "\n",
        "model.add(LSTM(lstm_units))\n",
        "# or if running on a GPU:\n",
        "#model.add(CuDNNLSTM(lstm_units))\n",
        "\n",
        "# To stack multiple RNN layers, all RNN layers except the last one need\n",
        "# to have \"return_sequences=True\".  An example of using two RNN layers:\n",
        "#model.add(LSTM(lstm_units, return_sequences=True))\n",
        "#model.add(LSTM(lstm_units))\n",
        "\n",
        "model.add(Dense(1, activation='sigmoid'))\n",
        "\n",
        "# try using different optimizers and different optimizer configs\n",
        "model.compile(loss='binary_crossentropy',\n",
        "              optimizer='rmsprop',\n",
        "              metrics=['accuracy'])\n",
        "print(model.summary())"
      ],
      "execution_count": 0,
      "outputs": []
    },
    {
      "cell_type": "code",
      "metadata": {
        "id": "1eT6E12-H8TI",
        "colab_type": "code",
        "colab": {}
      },
      "source": [
        "SVG(model_to_dot(model, show_shapes=True).create(prog='dot', format='svg'))"
      ],
      "execution_count": 0,
      "outputs": []
    },
    {
      "cell_type": "markdown",
      "metadata": {
        "id": "fc7epSR1H8TK",
        "colab_type": "text"
      },
      "source": [
        "## Learning\n",
        "\n",
        "Now we are ready to train our model.  An *epoch* means one pass through the whole training data. Note also that we are using a fraction of the training data as our validation set.\n",
        "\n",
        "Note that LSTMs are rather slow to train."
      ]
    },
    {
      "cell_type": "code",
      "metadata": {
        "id": "FXfItdfzH8TK",
        "colab_type": "code",
        "colab": {}
      },
      "source": [
        "%%time\n",
        "epochs = 5\n",
        "validation_split = 0.2\n",
        "\n",
        "history = model.fit(x_train, y_train, batch_size=128,\n",
        "          epochs=epochs, \n",
        "          validation_split=validation_split)\n"
      ],
      "execution_count": 0,
      "outputs": []
    },
    {
      "cell_type": "markdown",
      "metadata": {
        "id": "A_Fv0hdvH8TM",
        "colab_type": "text"
      },
      "source": [
        "Let's plot the data to see how the training progressed. A big gap between training and validation accuracies would suggest overfitting."
      ]
    },
    {
      "cell_type": "code",
      "metadata": {
        "id": "P8i5ZavoH8TN",
        "colab_type": "code",
        "colab": {}
      },
      "source": [
        "plt.figure(figsize=(5,3))\n",
        "plt.plot(history.epoch,history.history['loss'], label='training')\n",
        "plt.plot(history.epoch,history.history['val_loss'], label='validation')\n",
        "plt.title('loss')\n",
        "plt.legend(loc='best')\n",
        "\n",
        "plt.figure(figsize=(5,3))\n",
        "plt.plot(history.epoch,history.history['acc'], label='training')\n",
        "plt.plot(history.epoch,history.history['val_acc'], label='validation')\n",
        "plt.title('accuracy')\n",
        "plt.legend(loc='best');"
      ],
      "execution_count": 0,
      "outputs": []
    },
    {
      "cell_type": "markdown",
      "metadata": {
        "id": "AbrPRGLzH8TP",
        "colab_type": "text"
      },
      "source": [
        "## Inference\n",
        "\n",
        "For a better measure of the quality of the model, let's see the model accuracy for the test data. "
      ]
    },
    {
      "cell_type": "code",
      "metadata": {
        "id": "y4b1eikWH8TQ",
        "colab_type": "code",
        "colab": {}
      },
      "source": [
        "scores = model.evaluate(x_test, y_test, verbose=2)\n",
        "print(\"%s: %.2f%%\" % (model.metrics_names[1], scores[1]*100))"
      ],
      "execution_count": 0,
      "outputs": []
    },
    {
      "cell_type": "markdown",
      "metadata": {
        "id": "siFjbLfCH8TS",
        "colab_type": "text"
      },
      "source": [
        "---\n",
        "*Run this notebook in Google Colaboratory using [this link](https://colab.research.google.com/github/csc-training/intro-to-dl/blob/master/day1/keras-imdb-rnn.ipynb).*"
      ]
    }
  ]
}